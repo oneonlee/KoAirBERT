{
 "cells": [
  {
   "cell_type": "markdown",
   "id": "f882f0f3-d102-444a-a012-f8b97ed16cf2",
   "metadata": {},
   "source": [
    "# 텍스트 파일 및 csv 파일에서 문장 단위로 분해하기 (SENTENCE TOKENIZE)\n",
    "https://cryptosalamander.tistory.com/140"
   ]
  },
  {
   "cell_type": "code",
   "execution_count": 1,
   "id": "92d29ceb-7255-492f-84ba-41fbcb5ba34a",
   "metadata": {},
   "outputs": [],
   "source": [
    "import os\n",
    "import re\n",
    "from tqdm import tqdm\n",
    "import pandas as pd\n",
    "import nltk\n",
    "from nltk.data import load"
   ]
  },
  {
   "cell_type": "markdown",
   "id": "1b10b6fb-6bf3-420e-992e-78e5c1c3a561",
   "metadata": {},
   "source": [
    "`nltk.sent_tokenize`에 Abbreviations 추가하기"
   ]
  },
  {
   "cell_type": "code",
   "execution_count": 2,
   "id": "e9c24edf-24a8-4f4d-86b5-34fcd622b9d7",
   "metadata": {},
   "outputs": [],
   "source": [
    "tokenizer = load(\"tokenizers/punkt/english.pickle\")\n",
    "\n",
    "extra_abbreviations = [\n",
    "    'RE','re','pat', 'no', 'nos','vol','jan','feb','mar','apr','jun',\n",
    "    'jul','aug','sep','oct','nov','dec','eng','ser','ind','ed','pp',\n",
    "    'e.g','al','T.E.N.S', 'E.M.S','F.E','U.H.T.S.T','degree',\n",
    "    '/gm','A','B','C','D','E','F','G','H','I','J','K','L','M','N','O',\n",
    "    'P','Q','R','S','T','U','V','W','X','Y','Z',\n",
    "    \n",
    "    'inc', 'K.L.M', 'u.s', 'U.S', 'A.C.U', 'A.S.U', 'A.T.C.T', 'A.T.M.S', \n",
    "    'A.P.T', 'A.R.C', 'A.D.R', 'B.C.C', 'B.S.A', 'C.A.O', 'C.B.A', 'C.T.A', \n",
    "    'C.C', 'C.C.A', 'P.P', 'C.P.M', 'F.B.O', 'F.O.C', 'F.O.B', 'G.P', 'G.P.U', \n",
    "    'L.C.C', 'L.C', 'L.D.C', 'M.D.C', 'N.I.L', 'O.S.I', 'O.L.T', 'P.D.U', \n",
    "    'S.B.C', 'T.V', 'G.B.L', 'V.I.C'\n",
    "]\n",
    "tokenizer._params.abbrev_types.update(extra_abbreviations)"
   ]
  },
  {
   "cell_type": "code",
   "execution_count": 3,
   "id": "0c7cb530-8194-4c7f-82d3-ee1d20a3a53c",
   "metadata": {},
   "outputs": [],
   "source": [
    "def pre_process_doc(doc):\n",
    "    doc = re.sub(r'\\s+', ' ', doc)\n",
    "    doc = doc.replace(\"“\", '\"').replace(\"”\", '\"')\n",
    "    doc = doc.replace('‘', \"'\").replace('’', \"'\")\n",
    "    sent_list = nltk.sent_tokenize(doc)\n",
    "    processed_doc = '\\n'.join(sent_list)\n",
    "    return processed_doc "
   ]
  },
  {
   "cell_type": "code",
   "execution_count": 4,
   "id": "fef2b2c8-5960-43b5-b0f3-ec20fd44e91b",
   "metadata": {},
   "outputs": [],
   "source": [
    "def pre_process_text(text):\n",
    "    text = re.sub(r'\\s+', ' ', text)\n",
    "    text = text.replace(\"“\", '\"').replace(\"”\", '\"')\n",
    "    text = text.replace('‘', \"'\").replace('’', \"'\")\n",
    "        \n",
    "    return text"
   ]
  },
  {
   "cell_type": "code",
   "execution_count": 5,
   "id": "bb9137d0-158c-45f3-86aa-a843e76a1e18",
   "metadata": {},
   "outputs": [],
   "source": [
    "def pre_process_text2(text):\n",
    "    text = text.replace('ㅇ', \"\\n- \")\n",
    "    text = re.sub(r'\\s+', ' ', text)\n",
    "    text = text.replace(\"“\", '\"').replace(\"”\", '\"')\n",
    "    text = text.replace('‘', \"'\").replace('’', \"'\")\n",
    "        \n",
    "    return text"
   ]
  },
  {
   "cell_type": "markdown",
   "id": "d98badcd-67ad-4a14-80e9-73dcd614fe7f",
   "metadata": {},
   "source": [
    "## (1) 사고준사고보고서 (`*.txt`)"
   ]
  },
  {
   "cell_type": "code",
   "execution_count": 6,
   "id": "581a23c3-6a85-4637-8a6a-3656c7f20add",
   "metadata": {},
   "outputs": [],
   "source": [
    "input_folder = 'rawdata/사고준사고보고서'  # 텍스트 파일들이 있는 폴더 경로\n",
    "output_folder = 'train'  # 전처리된 파일을 저장할 폴더 경로\n",
    "\n",
    "# 입력 폴더 내의 모든 텍스트 파일 경로 가져오기\n",
    "file_paths = []\n",
    "for root, dirs, files in os.walk(input_folder):\n",
    "    for file in files:\n",
    "        if file.endswith('.txt'):\n",
    "            file_paths.append(os.path.join(root, file))"
   ]
  },
  {
   "cell_type": "code",
   "execution_count": 7,
   "id": "e2ff5e7e-65eb-4795-b2fc-67b56bbbd58f",
   "metadata": {},
   "outputs": [],
   "source": [
    "df = pd.DataFrame(index=range(0, len(file_paths)), columns = ['text'])"
   ]
  },
  {
   "cell_type": "code",
   "execution_count": 8,
   "id": "aeecccc7-bb5b-43ba-98b6-eb177da4e724",
   "metadata": {},
   "outputs": [
    {
     "name": "stderr",
     "output_type": "stream",
     "text": [
      "59it [00:00, 133.05it/s]\n"
     ]
    }
   ],
   "source": [
    "# 각 파일 불러와 전처리 후 저장\n",
    "for idx, file_path in tqdm(enumerate(file_paths)):\n",
    "    # 텍스트 파일 읽기\n",
    "    with open(file_path, 'r', encoding='utf-8') as file:\n",
    "        lines = file.readlines()\n",
    "\n",
    "    # 전처리 수행\n",
    "    doc = '\\n'.join(lines)\n",
    "    processed_doc = pre_process_doc(doc)\n",
    "    \n",
    "    df[\"text\"][idx] = processed_doc"
   ]
  },
  {
   "cell_type": "code",
   "execution_count": 9,
   "id": "165620af-2789-488d-9750-0220c00033f9",
   "metadata": {},
   "outputs": [],
   "source": [
    "# DataFrame을 csv 파일로 저장\n",
    "df.to_csv(os.path.join(output_folder, '사고준사고보고서.csv'), index=False)"
   ]
  },
  {
   "cell_type": "markdown",
   "id": "8e26ad04-9e23-4c65-9cef-dedcd9077dae",
   "metadata": {},
   "source": [
    "---\n",
    "## (2-1) 항공안전문화지표 (`*.csv`)"
   ]
  },
  {
   "cell_type": "code",
   "execution_count": 10,
   "id": "60c91890-9bd0-4ae0-a927-cc64a8bd32ad",
   "metadata": {},
   "outputs": [],
   "source": [
    "csv_file_path = 'rawdata/항공안전문화지표/항공안전문화지표 분석 모델.csv'  # 읽어올 CSV 파일 경로\n",
    "output_folder = 'train/'  # 텍스트 파일을 저장할 폴더 경로\n",
    "\n",
    "file_name = os.path.basename(csv_file_path)  # 파일 이름 추출\n",
    "output_path = os.path.join(output_folder, file_name)\n",
    "\n",
    "# CSV 파일을 데이터프레임으로 읽기\n",
    "df = pd.read_csv(csv_file_path)"
   ]
  },
  {
   "cell_type": "code",
   "execution_count": 11,
   "id": "ccdd4786-5db6-40a4-905b-248382ff7491",
   "metadata": {},
   "outputs": [
    {
     "name": "stderr",
     "output_type": "stream",
     "text": [
      "100% 1055/1055 [00:01<00:00, 652.95it/s]\n"
     ]
    }
   ],
   "source": [
    "df[\"text\"] = df[\"본문\"]\n",
    "\n",
    "for i in tqdm(range(0, len(df)-1)):\n",
    "    df[\"text\"][i] = \"- 보고서: \"\n",
    "    df[\"text\"][i]  += re.sub(r'\\s+', ' ', df[\"본문\"][i])\n",
    "        \n",
    "    suffix = \"- 항공안전 업무영역: \"\n",
    "    if pd.isna(df[\"항공안전 업무영역1\"][i]) == False:\n",
    "        suffix += df[\"항공안전 업무영역1\"][i].replace('\\n', ', ')\n",
    "    if pd.isna(df[\"항공안전 업무영역2\"][i]) == False:\n",
    "        if suffix == \"- 항공안전 업무영역: \":\n",
    "            suffix += df[\"항공안전 업무영역2\"][i].replace('\\n', ', ')\n",
    "        else:\n",
    "            suffix += \", \" + df[\"항공안전 업무영역2\"][i].replace('\\n', ', ')\n",
    "    if suffix != \"- 항공안전 업무영역: \":\n",
    "        df[\"text\"][i] += \"\\n\" + suffix\n",
    "    \n",
    "    suffix = \"- 원인분석 & 전조징후: \"\n",
    "    if pd.isna(df[\"원인분석 - 전조징후 1\"][i]) == False:\n",
    "        suffix += df[\"원인분석 - 전조징후 1\"][i].replace('\\n', ', ')\n",
    "    \n",
    "        if pd.isna(df[\"원인분석 - 전조징후 2\"][i]) == False:\n",
    "            suffix += \", \" + df[\"원인분석 - 전조징후 2\"][i].replace('\\n', ', ')\n",
    "            \n",
    "            if pd.isna(df[\"원인분석 - 전조징후 3\"][i]) == False:\n",
    "                suffix += \", \" + df[\"원인분석 - 전조징후 3\"][i].replace('\\n', ', ')\n",
    "    if suffix != \"- 원인분석 - 전조징후: \":\n",
    "        df[\"text\"][i] += \"\\n\" + suffix\n",
    "        \n",
    "    suffix_list = []\n",
    "    for row in [\"안전문화1\", \"안전문화2\", \"안전문화3\", \"안전문화4\", \"안전문화5\", \"안전문화6\"]:\n",
    "        if pd.isna(df[row][i]) == False:\n",
    "            suffix_list.append(df[row][i].replace('\\n', ', '))\n",
    "    suffix_list = list(set(suffix_list))\n",
    "    if len(suffix_list)>0:\n",
    "        suffix = \"- 안전문화 : \"\n",
    "        suffix += \", \".join(suffix_list)\n",
    "        df[\"text\"][i] += \"\\n\" + suffix\n",
    "    \n",
    "    \n",
    "    \n",
    "df = df[[\"text\"]]\n",
    "df.to_csv(output_path, index=False)"
   ]
  },
  {
   "cell_type": "markdown",
   "id": "19397388-3a9b-4e01-9b99-23b40a8cc604",
   "metadata": {},
   "source": [
    "## (2-2) 항공안전문화지표 증강 (`*.csv`)"
   ]
  },
  {
   "cell_type": "code",
   "execution_count": 12,
   "id": "42a249ec-8868-4508-b8ce-c364d1d14cd0",
   "metadata": {},
   "outputs": [],
   "source": [
    "csv_file_path = 'rawdata/항공안전문화지표/항공안전문화지표 분석모델_증강.csv'  # 읽어올 CSV 파일 경로\n",
    "output_folder = 'train/'  # 텍스트 파일을 저장할 폴더 경로\n",
    "\n",
    "file_name = os.path.basename(csv_file_path)  # 파일 이름 추출\n",
    "output_path = os.path.join(output_folder, file_name)\n",
    "\n",
    "# CSV 파일을 데이터프레임으로 읽기\n",
    "df = pd.read_csv(csv_file_path)"
   ]
  },
  {
   "cell_type": "code",
   "execution_count": 13,
   "id": "b7827a71-8820-46c0-94e7-c20afd6e893c",
   "metadata": {},
   "outputs": [
    {
     "name": "stderr",
     "output_type": "stream",
     "text": [
      "  0% 0/5902 [00:00<?, ?it/s]/tmp/ipykernel_4935/2379416453.py:4: SettingWithCopyWarning: \n",
      "A value is trying to be set on a copy of a slice from a DataFrame\n",
      "\n",
      "See the caveats in the documentation: https://pandas.pydata.org/pandas-docs/stable/user_guide/indexing.html#returning-a-view-versus-a-copy\n",
      "  df[\"text\"][i] = pre_process_doc(df[\"text\"][i])\n",
      "100% 5902/5902 [00:04<00:00, 1202.24it/s]\n"
     ]
    }
   ],
   "source": [
    "df[\"text\"] = df[\"main\"]\n",
    "\n",
    "for i in tqdm(range(len(df))):\n",
    "    df[\"text\"][i] = pre_process_doc(df[\"text\"][i])\n",
    "df = df[[\"text\"]]"
   ]
  },
  {
   "cell_type": "code",
   "execution_count": 14,
   "id": "af246601-33e7-4d04-b355-6f72f8ce4a5d",
   "metadata": {},
   "outputs": [],
   "source": [
    "df.to_csv(output_path, index=False)"
   ]
  },
  {
   "cell_type": "markdown",
   "id": "652b5db0-bfd6-43ce-9dac-256fcf5ce349",
   "metadata": {},
   "source": [
    "---\n",
    "## (3) 항공용어사전"
   ]
  },
  {
   "cell_type": "code",
   "execution_count": 15,
   "id": "10925974-5e85-4b24-be01-b4a20953a850",
   "metadata": {},
   "outputs": [],
   "source": [
    "csv_file_path = 'rawdata/항공용어사전/국토교통부_항공용어사전_20200916.csv'  # 읽어올 CSV 파일 경로\n",
    "output_folder = 'train/'  # 텍스트 파일을 저장할 폴더 경로\n",
    "\n",
    "file_name = os.path.basename(csv_file_path)  # 파일 이름 추출\n",
    "output_path = os.path.join(output_folder, file_name)\n",
    "\n",
    "# CSV 파일을 데이터프레임으로 읽기\n",
    "df = pd.read_csv(csv_file_path)"
   ]
  },
  {
   "cell_type": "code",
   "execution_count": 16,
   "id": "ef7fe3b5-bce7-48ec-abc1-526a5cee09a3",
   "metadata": {},
   "outputs": [
    {
     "data": {
      "text/html": [
       "<div>\n",
       "<style scoped>\n",
       "    .dataframe tbody tr th:only-of-type {\n",
       "        vertical-align: middle;\n",
       "    }\n",
       "\n",
       "    .dataframe tbody tr th {\n",
       "        vertical-align: top;\n",
       "    }\n",
       "\n",
       "    .dataframe thead th {\n",
       "        text-align: right;\n",
       "    }\n",
       "</style>\n",
       "<table border=\"1\" class=\"dataframe\">\n",
       "  <thead>\n",
       "    <tr style=\"text-align: right;\">\n",
       "      <th></th>\n",
       "      <th>용어</th>\n",
       "      <th>한글명</th>\n",
       "      <th>약칭</th>\n",
       "      <th>해설</th>\n",
       "    </tr>\n",
       "  </thead>\n",
       "  <tbody>\n",
       "    <tr>\n",
       "      <th>0</th>\n",
       "      <td>A &amp; B hydraulic brake system</td>\n",
       "      <td>A &amp; B 유압 제동 장치</td>\n",
       "      <td>NaN</td>\n",
       "      <td>일부 대형 항공기의 다중디스크(multi-disk) 동력 제동 장치에 사용되는 예비...</td>\n",
       "    </tr>\n",
       "    <tr>\n",
       "      <th>1</th>\n",
       "      <td>A &amp; P technician</td>\n",
       "      <td>기체 및 동력장치 정비사</td>\n",
       "      <td>NaN</td>\n",
       "      <td>FAA에서 인증한 항공기 정비 경력과 지식을 갖춘 기체 및 동력장치(airframe...</td>\n",
       "    </tr>\n",
       "    <tr>\n",
       "      <th>2</th>\n",
       "      <td>A-10 thunderbolt II</td>\n",
       "      <td>A-10 선더볼트 II</td>\n",
       "      <td>NaN</td>\n",
       "      <td>미공군은 베트남 전쟁 후 보다 강력한 근접지원(close support)항공기의 필...</td>\n",
       "    </tr>\n",
       "    <tr>\n",
       "      <th>3</th>\n",
       "      <td>A-37 dragonfly</td>\n",
       "      <td>A-37 드레곤플라이</td>\n",
       "      <td>NaN</td>\n",
       "      <td>미공군의 표준 기본 훈련기(basic trainer)로 활약하고 있으며 날개아래 파...</td>\n",
       "    </tr>\n",
       "    <tr>\n",
       "      <th>4</th>\n",
       "      <td>A-battery</td>\n",
       "      <td>A-배터리</td>\n",
       "      <td>NaN</td>\n",
       "      <td>일반적으로 1.5볼트(volt)에서 6.0볼트의 전압을 발생시킬 수 있는 배터리.</td>\n",
       "    </tr>\n",
       "    <tr>\n",
       "      <th>...</th>\n",
       "      <td>...</td>\n",
       "      <td>...</td>\n",
       "      <td>...</td>\n",
       "      <td>...</td>\n",
       "    </tr>\n",
       "    <tr>\n",
       "      <th>4956</th>\n",
       "      <td>zero fuel weight</td>\n",
       "      <td>무연료 무게, 무연료 중량</td>\n",
       "      <td>NaN</td>\n",
       "      <td>항공기가 연료, 윤활유를 탑재치 않았을 때 허용되는 중량. 이 중량을 설정한 것은 ...</td>\n",
       "    </tr>\n",
       "    <tr>\n",
       "      <th>4957</th>\n",
       "      <td>zero gravity</td>\n",
       "      <td>무중력</td>\n",
       "      <td>NaN</td>\n",
       "      <td>관성력에 의해서 중력의 효과가 상실되는 상태. 무중력은 고성능 항공기에서는 포물선 ...</td>\n",
       "    </tr>\n",
       "    <tr>\n",
       "      <th>4958</th>\n",
       "      <td>zero lift angle of attack</td>\n",
       "      <td>무받음각</td>\n",
       "      <td>NaN</td>\n",
       "      <td>양력을 발생하지 못한다.</td>\n",
       "    </tr>\n",
       "    <tr>\n",
       "      <th>4959</th>\n",
       "      <td>zoom up</td>\n",
       "      <td>급상승 고도 획득 비행</td>\n",
       "      <td>NaN</td>\n",
       "      <td>전속 수평직선비행으로 기체를 가속하여 그 여세로 한번에 급상승하여 고도를 획득하는 ...</td>\n",
       "    </tr>\n",
       "    <tr>\n",
       "      <th>4960</th>\n",
       "      <td>zulu time</td>\n",
       "      <td>국제표준시, 줄루시간</td>\n",
       "      <td>Z</td>\n",
       "      <td>그리니치 표준시 또는 세계시의 명칭. 시간뒤에 'Z' 문자를 붙여 국제표준시를 나타...</td>\n",
       "    </tr>\n",
       "  </tbody>\n",
       "</table>\n",
       "<p>4961 rows × 4 columns</p>\n",
       "</div>"
      ],
      "text/plain": [
       "                                용어             한글명   약칭  \\\n",
       "0     A & B hydraulic brake system  A & B 유압 제동 장치  NaN   \n",
       "1                 A & P technician   기체 및 동력장치 정비사  NaN   \n",
       "2              A-10 thunderbolt II    A-10 선더볼트 II  NaN   \n",
       "3                   A-37 dragonfly     A-37 드레곤플라이  NaN   \n",
       "4                        A-battery           A-배터리  NaN   \n",
       "...                            ...             ...  ...   \n",
       "4956              zero fuel weight  무연료 무게, 무연료 중량  NaN   \n",
       "4957                  zero gravity             무중력  NaN   \n",
       "4958     zero lift angle of attack            무받음각  NaN   \n",
       "4959                       zoom up    급상승 고도 획득 비행  NaN   \n",
       "4960                     zulu time     국제표준시, 줄루시간    Z   \n",
       "\n",
       "                                                     해설  \n",
       "0     일부 대형 항공기의 다중디스크(multi-disk) 동력 제동 장치에 사용되는 예비...  \n",
       "1     FAA에서 인증한 항공기 정비 경력과 지식을 갖춘 기체 및 동력장치(airframe...  \n",
       "2     미공군은 베트남 전쟁 후 보다 강력한 근접지원(close support)항공기의 필...  \n",
       "3     미공군의 표준 기본 훈련기(basic trainer)로 활약하고 있으며 날개아래 파...  \n",
       "4         일반적으로 1.5볼트(volt)에서 6.0볼트의 전압을 발생시킬 수 있는 배터리.  \n",
       "...                                                 ...  \n",
       "4956  항공기가 연료, 윤활유를 탑재치 않았을 때 허용되는 중량. 이 중량을 설정한 것은 ...  \n",
       "4957  관성력에 의해서 중력의 효과가 상실되는 상태. 무중력은 고성능 항공기에서는 포물선 ...  \n",
       "4958                                      양력을 발생하지 못한다.  \n",
       "4959  전속 수평직선비행으로 기체를 가속하여 그 여세로 한번에 급상승하여 고도를 획득하는 ...  \n",
       "4960  그리니치 표준시 또는 세계시의 명칭. 시간뒤에 'Z' 문자를 붙여 국제표준시를 나타...  \n",
       "\n",
       "[4961 rows x 4 columns]"
      ]
     },
     "execution_count": 16,
     "metadata": {},
     "output_type": "execute_result"
    }
   ],
   "source": [
    "df"
   ]
  },
  {
   "cell_type": "code",
   "execution_count": 17,
   "id": "934e8f44-184b-4420-81e7-6b87f615b6c5",
   "metadata": {},
   "outputs": [
    {
     "name": "stderr",
     "output_type": "stream",
     "text": [
      "100% 4961/4961 [00:05<00:00, 885.14it/s]\n"
     ]
    }
   ],
   "source": [
    "df[\"text\"] = df[\"약칭\"]\n",
    "\n",
    "for i in tqdm(range(len(df))):\n",
    "    df[\"text\"][i] = \"\"\n",
    "    \n",
    "    if pd.isna(df[\"용어\"][i]) == False:\n",
    "        df[\"text\"][i] += f'- 용어 : {df[\"용어\"][i]}\\n'\n",
    "    if pd.isna(df[\"한글명\"][i]) == False:\n",
    "        df[\"text\"][i] += f'- 한글명 : {df[\"한글명\"][i]}\\n'\n",
    "    if pd.isna(df[\"약칭\"][i]) == False:\n",
    "        df[\"text\"][i] += f'- 약칭 : {df[\"약칭\"][i]}\\n'\n",
    "              \n",
    "    df[\"text\"][i] += \"- 해설 :\" + pre_process_text(df[\"해설\"][i])  # \"해설\" 열의 값을 텍스트로 저장\n",
    "    \n",
    "df = df[[\"text\"]]\n",
    "df.to_csv(output_path, index=False)"
   ]
  },
  {
   "cell_type": "markdown",
   "id": "2b7f359e-c96b-4d68-90f9-57c72456e11d",
   "metadata": {},
   "source": [
    "---\n",
    "## (4-1) 고장보고"
   ]
  },
  {
   "cell_type": "code",
   "execution_count": 18,
   "id": "ba4ca589-6a6d-49e6-83cc-162049da7da6",
   "metadata": {},
   "outputs": [],
   "source": [
    "csv_file_path = 'rawdata/안전장애_고장보고_데이터/고장보고 데이터.csv'  # 읽어올 CSV 파일 경로\n",
    "output_folder = 'train/'  # 텍스트 파일을 저장할 폴더 경로\n",
    "\n",
    "file_name = os.path.basename(csv_file_path)  # 파일 이름 추출\n",
    "output_path = os.path.join(output_folder, file_name)\n",
    "\n",
    "# CSV 파일을 데이터프레임으로 읽기\n",
    "df = pd.read_csv(csv_file_path)"
   ]
  },
  {
   "cell_type": "code",
   "execution_count": 19,
   "id": "31f07a0c-ecb6-446b-ada4-fc79ac49e742",
   "metadata": {},
   "outputs": [
    {
     "name": "stderr",
     "output_type": "stream",
     "text": [
      "100% 1771/1771 [00:01<00:00, 892.44it/s]\n"
     ]
    }
   ],
   "source": [
    "df[\"text\"] = df[\"접수번호\"]\n",
    "\n",
    "# 각 행을 텍스트 파일로 저장\n",
    "for i in tqdm(range(len(df))):\n",
    "    text = df[\"고장내용\"][i]  # \"고장내용\" 열의 값을 텍스트로 저장\n",
    "    df[\"text\"][i] = pre_process_text2(text)\n",
    "    \n",
    "    if pd.isna(df[\"고장 등의 상태\"][i]) == False:\n",
    "        df[\"text\"][i] += \"\\n\" + f'- 고장 등의 상태 : {df[\"고장 등의 상태\"][i]}' + '\\n'\n",
    "    if pd.isna(df[\"조치사항\"][i]) == False:\n",
    "        df[\"text\"][i] += \"\\n\" + f'- 조치사항 : {df[\"조치사항\"][i]}' + '\\n'\n",
    "    if pd.isna(df[\"비행단계\"][i]) == False:\n",
    "        df[\"text\"][i] += \"\\n\" + f'- 비행단계 : {df[\"비행단계\"][i]}'\n",
    "              \n",
    "    \n",
    "df = df[[\"text\"]]\n",
    "df.to_csv(output_path, index=False)"
   ]
  },
  {
   "cell_type": "markdown",
   "id": "152febba-b694-49ba-87f2-1962eea8687f",
   "metadata": {},
   "source": [
    "## (4-2) 안전장애보고"
   ]
  },
  {
   "cell_type": "code",
   "execution_count": 20,
   "id": "37a08d55-1093-4d3e-8dec-95ecea77de1d",
   "metadata": {},
   "outputs": [],
   "source": [
    "csv_file_path = 'rawdata/안전장애_고장보고_데이터/안전장애보고 데이터.csv'  # 읽어올 CSV 파일 경로\n",
    "output_folder = 'train/'  # 텍스트 파일을 저장할 폴더 경로\n",
    "\n",
    "file_name = os.path.basename(csv_file_path)  # 파일 이름 추출\n",
    "output_path = os.path.join(output_folder, file_name)\n",
    "\n",
    "# CSV 파일을 데이터프레임으로 읽기\n",
    "df = pd.read_csv(csv_file_path)"
   ]
  },
  {
   "cell_type": "code",
   "execution_count": 21,
   "id": "96ddac18-c4f5-414e-95f3-e94379b34341",
   "metadata": {},
   "outputs": [
    {
     "name": "stderr",
     "output_type": "stream",
     "text": [
      "100% 684/684 [00:01<00:00, 415.36it/s]\n"
     ]
    }
   ],
   "source": [
    "enter_char = '\\n'\n",
    "\n",
    "df[\"text\"] = df[\"발생장소\"]\n",
    "\n",
    "# 각 행을 텍스트 파일로 저장\n",
    "for i in tqdm(range(len(df))):\n",
    "    text = df[\"발생개요\"][i]  # \"발생개요\" 열의 값을 텍스트로 저장\n",
    "    df[\"text\"][i] = \"- 발생개요 : \" + pre_process_text2(text)\n",
    "    \n",
    "    if pd.isna(df[\"발생장소\"][i]) == False:\n",
    "        df[\"text\"][i] += \"\\n\" + f'- 발생장소 : {df[\"발생장소\"][i]}\\n'\n",
    "    if pd.isna(df[\"이벤트 항목\\n(보고받은 항목)\"][i]) == False:\n",
    "        df[\"text\"][i] += \"\\n\" + f'- 이벤트 항목 (보고받은 항목) : {df[f\"이벤트 항목{enter_char}(보고받은 항목)\"][i]}\\n'\n",
    "    if pd.isna(df[\"이벤트 항목(대)\\n-분석결과\"][i]) == False:\n",
    "        df[\"text\"][i] += \"\\n\" + f'- 이벤트 항목(대)-분석결과 : {df[f\"이벤트 항목(대){enter_char}-분석결과\"][i]}\\n'\n",
    "    if pd.isna(df[\"이벤트 항목(중)\\n-분석결과\"][i]) == False:\n",
    "        df[\"text\"][i] += \"\\n\" + f'- 이벤트 항목(중)-분석결과 : {df[f\"이벤트 항목(중){enter_char}-분석결과\"][i]}\\n'\n",
    "    if pd.isna(df[\"이벤트 항목(소)\\n-분석결과\"][i]) == False:\n",
    "        df[\"text\"][i] += \"\\n\" + f'- 이벤트 항목(소)-분석결과 : {df[f\"이벤트 항목(소){enter_char}-분석결과\"][i]}\\n'\n",
    "    if pd.isna(df[\"요인구분(대)\"][i]) == False:\n",
    "        df[\"text\"][i] += \"\\n\" + f'- 요인구분(대) : {df[\"요인구분(대)\"][i]}\\n'\n",
    "    if pd.isna(df[\"요인구분(중)\"][i]) == False:\n",
    "        df[\"text\"][i] += \"\\n\" + f'- 요인구분(중) : {df[\"요인구분(중)\"][i]}\\n'\n",
    "    if pd.isna(df[\"기타특이사항\"][i]) == False:\n",
    "        df[\"text\"][i] += \"\\n\" + f'- 기타특이사항 : {df[\"기타특이사항\"][i]}\\n'\n",
    "    if pd.isna(df[\"발생원인 분석\\n(감독관님 작성)\"][i]) == False:\n",
    "        df[\"text\"][i] += \"\\n\" + f'- 발생원인 분석 : {df[f\"발생원인 분석{enter_char}(감독관님 작성)\"][i]}\\n'\n",
    "    if pd.isna(df[\"항공사\\n귀책여부\"][i]) == False:\n",
    "        df[\"text\"][i] += \"\\n\" + f'- 항공사 귀책여부 : {df[f\"항공사{enter_char}귀책여부\"][i]}\\n'\n",
    "    if pd.isna(df[\"안전지표\\n반영여부\"][i]) == False:\n",
    "        df[\"text\"][i] += \"\\n\" + f'- 안전지표 반영여부 : {df[f\"안전지표{enter_char}반영여부\"][i]}\\n'\n",
    "    if pd.isna(df[\"항공사 조치\"][i]) == False:\n",
    "        text = df[\"항공사 조치\"][i]  # \"항공사 조치\" 열의 값을 텍스트로 저장\n",
    "        df[\"text\"][i] += \"\\n\" + \"- 항공사 조치 :\" + pre_process_text2(text)\n",
    "    \n",
    "df = df[[\"text\"]]\n",
    "df.to_csv(output_path, index=False)"
   ]
  },
  {
   "cell_type": "markdown",
   "id": "dce0dc8e-e8be-4a17-b3da-473ca1ca900f",
   "metadata": {},
   "source": [
    "## (5) GYRO"
   ]
  },
  {
   "cell_type": "code",
   "execution_count": 22,
   "id": "95d8401e-eb26-4ca1-9f81-6841f9af4700",
   "metadata": {},
   "outputs": [],
   "source": [
    "csv_file_path = 'rawdata/GYRO/GYRO_trainset.csv'  # 읽어올 CSV 파일 경로\n",
    "output_folder = 'train/'  # 텍스트 파일을 저장할 폴더 경로\n",
    "\n",
    "file_name = os.path.basename(csv_file_path)  # 파일 이름 추출\n",
    "output_path = os.path.join(output_folder, file_name)\n",
    "\n",
    "# CSV 파일을 데이터프레임으로 읽기\n",
    "df = pd.read_csv(csv_file_path)"
   ]
  },
  {
   "cell_type": "code",
   "execution_count": 23,
   "id": "462a8423-2c23-48f3-84e0-ce118a4038f9",
   "metadata": {},
   "outputs": [
    {
     "name": "stderr",
     "output_type": "stream",
     "text": [
      "  0% 0/874 [00:00<?, ?it/s]/tmp/ipykernel_4935/2970371766.py:31: SettingWithCopyWarning: \n",
      "A value is trying to be set on a copy of a slice from a DataFrame\n",
      "\n",
      "See the caveats in the documentation: https://pandas.pydata.org/pandas-docs/stable/user_guide/indexing.html#returning-a-view-versus-a-copy\n",
      "  df[\"text\"][i] = text\n",
      "100% 874/874 [00:00<00:00, 1165.46it/s]\n"
     ]
    }
   ],
   "source": [
    "# 각 행을 텍스트 파일로 저장\n",
    "\n",
    "df[\"text\"] = df[\"본문\"]\n",
    "\n",
    "for i in tqdm(range(len(df))):\n",
    "    text = \"\"\n",
    "    \n",
    "    if pd.isna(df[\"사고명\"][i]) == False:\n",
    "        text += f'- 사고명 : {df[\"사고명\"][i]}\\n'\n",
    "    \n",
    "    text += f'- 본문 :\\n{pre_process_doc(df[\"text\"][i])}\\n' # \"text\" 열의 값을 텍스트로 저장\n",
    "    \n",
    "    \n",
    "    text += f'- 원인 키워드 : {df[\"원인 키워드\"][i]}\\n' # \"text\" 열의 값을 텍스트로 저장\n",
    "    \n",
    "    if pd.isna(df[\"원인\"][i]) == False:\n",
    "        text += f'- 원인 : {pre_process_doc(df[\"원인\"][i])}\\n'\n",
    "    if pd.isna(df[\"발생지표\"][i]) == False:\n",
    "        text += f'- 발생지표 : {pre_process_doc(df[\"발생지표\"][i])}\\n'\n",
    "    if pd.isna(df[\"요약\"][i]) == False:\n",
    "        text += f'- 요약 : {pre_process_doc(df[\"요약\"][i])}\\n'\n",
    "    if pd.isna(df[\"재발방지대책\"][i]) == False:\n",
    "        text += f'- 재발방지대책 : {df[\"재발방지대책\"][i]}\\n'\n",
    "    if pd.isna(df[\"조치결과\"][i]) == False:\n",
    "        text += f'- 조치결과 : {df[\"조치결과\"][i]}\\n'\n",
    "    if pd.isna(df[\"DATA\"][i]) == False:\n",
    "        text += f'- DATA : {df[\"DATA\"][i]}\\n'\n",
    "    if pd.isna(df[\"비고\"][i]) == False:\n",
    "        text += f'- 비고 : {df[\"비고\"][i]}\\n'\n",
    "       \n",
    "    df[\"text\"][i] = text\n",
    "    \n",
    "df = df[[\"text\"]]\n",
    "df.to_csv(output_path, index=False)"
   ]
  },
  {
   "cell_type": "markdown",
   "id": "fe298a72-cc1b-482e-9c9c-33cf562e1ffc",
   "metadata": {},
   "source": [
    "## (6) 항공위키"
   ]
  },
  {
   "cell_type": "code",
   "execution_count": 24,
   "id": "6b1030cf-5525-4964-a476-cb31653a3457",
   "metadata": {},
   "outputs": [],
   "source": [
    "csv_file_path = 'rawdata/항공위키/airwiki_data.csv'  # 읽어올 CSV 파일 경로\n",
    "output_folder = 'train/'  # 텍스트 파일을 저장할 폴더 경로\n",
    "\n",
    "file_name = os.path.basename(csv_file_path)  # 파일 이름 추출\n",
    "output_path = os.path.join(output_folder, file_name)\n",
    "\n",
    "# CSV 파일을 데이터프레임으로 읽기\n",
    "df = pd.read_csv(csv_file_path)"
   ]
  },
  {
   "cell_type": "code",
   "execution_count": 25,
   "id": "baf2bf68-33fd-43eb-9d6f-0eeae176069b",
   "metadata": {},
   "outputs": [
    {
     "name": "stderr",
     "output_type": "stream",
     "text": [
      "  0% 0/4314 [00:00<?, ?it/s]/tmp/ipykernel_4935/2037974171.py:6: SettingWithCopyWarning: \n",
      "A value is trying to be set on a copy of a slice from a DataFrame\n",
      "\n",
      "See the caveats in the documentation: https://pandas.pydata.org/pandas-docs/stable/user_guide/indexing.html#returning-a-view-versus-a-copy\n",
      "  df[\"text\"][i] = pre_process_text(text)\n",
      "100% 4314/4314 [00:01<00:00, 2365.42it/s]\n"
     ]
    }
   ],
   "source": [
    "# 각 행을 텍스트 파일로 저장\n",
    "df[\"text\"] = df[\"문서 내용\"]\n",
    "\n",
    "for i in tqdm(range(len(df))):\n",
    "    text = df[\"text\"][i]  # \"text\" 열의 값을 텍스트로 저장\n",
    "    df[\"text\"][i] = pre_process_text(text)\n",
    "    \n",
    "df = df[[\"text\"]]\n",
    "df.to_csv(output_path, index=False)"
   ]
  }
 ],
 "metadata": {
  "kernelspec": {
   "display_name": "Python 3 (ipykernel)",
   "language": "python",
   "name": "python3"
  },
  "language_info": {
   "codemirror_mode": {
    "name": "ipython",
    "version": 3
   },
   "file_extension": ".py",
   "mimetype": "text/x-python",
   "name": "python",
   "nbconvert_exporter": "python",
   "pygments_lexer": "ipython3",
   "version": "3.8.10"
  }
 },
 "nbformat": 4,
 "nbformat_minor": 5
}
