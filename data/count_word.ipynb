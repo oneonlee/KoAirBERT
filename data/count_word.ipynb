{
 "cells": [
  {
   "cell_type": "code",
   "execution_count": 3,
   "id": "be469e57-1224-408b-ac59-4a02ec81c8a7",
   "metadata": {},
   "outputs": [
    {
     "name": "stdout",
     "output_type": "stream",
     "text": [
      "파일명: 항공안전문화지표 분석모델_증강.csv, 문장 수: 56193, 단어 수: 1055875\n",
      "파일명: 사고준사고보고서.csv, 문장 수: 1768, 단어 수: 32176\n",
      "파일명: 고장보고 데이터.csv, 문장 수: 10480, 단어 수: 85165\n",
      "파일명: train.csv, 문장 수: 98337, 단어 수: 1821670\n",
      "파일명: 안전장애보고 데이터.csv, 문장 수: 10018, 단어 수: 69472\n",
      "파일명: 국토교통부_항공용어사전_20200916.csv, 문장 수: 15312, 단어 수: 167295\n",
      "파일명: GYRO_trainset.csv, 문장 수: 914, 단어 수: 167654\n",
      "파일명: 항공안전문화지표 분석 모델.csv, 문장 수: 3652, 단어 수: 244033\n"
     ]
    }
   ],
   "source": [
    "import os\n",
    "import pandas as pd\n",
    "\n",
    "# data 폴더의 csv 파일 리스트 가져오기\n",
    "csv_files = [f for f in os.listdir('./train') if f.endswith('.csv')]\n",
    "\n",
    "# 각 파일에 대해 처리\n",
    "for file in csv_files:\n",
    "    # 파일 읽기\n",
    "    df = pd.read_csv('./train/' + file)\n",
    "    # 결측치 제거\n",
    "    df = df.dropna()\n",
    "\n",
    "    # 문장 수와 단어 수 계산을 위한 변수 초기화\n",
    "    sentence_count = 0\n",
    "    word_count = 0\n",
    "    \n",
    "    # 각 행에 대해 처리\n",
    "    for report in df.iloc[:, 0]:  # 첫 번째 열이 보고서라고 가정\n",
    "        # 문장 수 계산\n",
    "        sentences = report.split(\"\\n\")\n",
    "        sentence_count += len(sentences)\n",
    "        \n",
    "        # 단어 수 계산\n",
    "        for sentence in sentences:\n",
    "            words = sentence.split()\n",
    "            word_count += len(words)\n",
    "    \n",
    "    # 파일명 및 문장 수, 단어 수 출력\n",
    "    print(f'파일명: {file}, 문장 수: {sentence_count}, 단어 수: {word_count}')\n"
   ]
  },
  {
   "cell_type": "code",
   "execution_count": null,
   "id": "80b90e91-a9d6-4ca8-bb5e-d38ee5d304fe",
   "metadata": {},
   "outputs": [],
   "source": []
  }
 ],
 "metadata": {
  "kernelspec": {
   "display_name": "Python 3 (ipykernel)",
   "language": "python",
   "name": "python3"
  },
  "language_info": {
   "codemirror_mode": {
    "name": "ipython",
    "version": 3
   },
   "file_extension": ".py",
   "mimetype": "text/x-python",
   "name": "python",
   "nbconvert_exporter": "python",
   "pygments_lexer": "ipython3",
   "version": "3.8.10"
  }
 },
 "nbformat": 4,
 "nbformat_minor": 5
}
