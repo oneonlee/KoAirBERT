{
 "cells": [
  {
   "cell_type": "code",
   "execution_count": 1,
   "id": "e15f8be7-f71f-4c4b-9426-8556cb1ef2ce",
   "metadata": {},
   "outputs": [],
   "source": [
    "import pandas as pd\n",
    "import os\n",
    "\n",
    "# \"train\" 폴더 안의 모든 csv 파일을 찾습니다.\n",
    "csv_files = [i for i in os.listdir('train') if i.endswith(\".csv\")]\n",
    "\n",
    "# 각 csv 파일을 불러와 \"text\" 열을 기준으로 합칩니다.\n",
    "df_list = []\n",
    "for csv in csv_files:\n",
    "    df = pd.read_csv('train/' + csv)\n",
    "    df_list.append(df)\n",
    "\n",
    "# 모든 데이터프레임을 하나로 합칩니다.\n",
    "merged_df = pd.concat(df_list)\n",
    "\n",
    "# 결과를 train.csv로 저장합니다.\n",
    "merged_df.to_csv('train/BERT_trainset.csv', index=False)"
   ]
  },
  {
   "cell_type": "code",
   "execution_count": null,
   "id": "2a4a1970-f320-4b6e-85b2-654504d012f8",
   "metadata": {},
   "outputs": [],
   "source": []
  }
 ],
 "metadata": {
  "kernelspec": {
   "display_name": "Python 3 (ipykernel)",
   "language": "python",
   "name": "python3"
  },
  "language_info": {
   "codemirror_mode": {
    "name": "ipython",
    "version": 3
   },
   "file_extension": ".py",
   "mimetype": "text/x-python",
   "name": "python",
   "nbconvert_exporter": "python",
   "pygments_lexer": "ipython3",
   "version": "3.8.10"
  }
 },
 "nbformat": 4,
 "nbformat_minor": 5
}
